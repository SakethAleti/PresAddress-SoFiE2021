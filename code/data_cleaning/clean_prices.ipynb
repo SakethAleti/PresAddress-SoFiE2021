{
 "cells": [
  {
   "cell_type": "code",
   "execution_count": 1,
   "metadata": {},
   "outputs": [],
   "source": [
    "import os, sys\n",
    "sys.path.append(os.path.abspath(os.path.join('../../../virtualenv/lib/python3.8/site-packages')))\n",
    "sys.path.append(os.path.abspath(os.path.join('../../../virtualenv/lib/python3.9/site-packages')))\n",
    "sys.path.append(os.path.abspath(os.path.join('../../../.local/lib/python3.9/site-packages')))\n",
    "sys.path.append('/usr/local/sas/grid/python3-3.9.1/lib/python3.9/site-packages')\n",
    "\n",
    "import pandas as pd\n",
    "import numpy as np\n",
    "import glob\n",
    "from tqdm import tqdm\n",
    "import wrds\n",
    "from multiprocessing import Pool\n",
    "import pyarrow as pa\n",
    "import pyarrow.parquet as pq\n",
    "import pyarrow.dataset as ds"
   ]
  },
  {
   "cell_type": "markdown",
   "metadata": {},
   "source": [
    "# Identify files"
   ]
  },
  {
   "cell_type": "code",
   "execution_count": 2,
   "metadata": {},
   "outputs": [],
   "source": [
    "# Get list of TAQ files\n",
    "taq_price_folder = '../../data/taq/prices/'\n",
    "taq_price_files = glob.glob(taq_price_folder + '*.parquet')\n",
    "taq_price_files_dates = [x.split('/')[-1].split('_')[0].split('.')[0] for x in taq_price_files]\n",
    "taq_price_files_dates = list(set(taq_price_files_dates))"
   ]
  },
  {
   "cell_type": "code",
   "execution_count": 3,
   "metadata": {},
   "outputs": [],
   "source": [
    "# Get list of CRSP files\n",
    "crsp_price_folder = '../../../HFZoo/data/crsp/daily/'\n",
    "crsp_price_files = glob.glob(crsp_price_folder + '*.parquet')\n",
    "crsp_price_files_dates = [x.split('/')[-1].split('.')[0] for x in crsp_price_files]"
   ]
  },
  {
   "cell_type": "markdown",
   "metadata": {},
   "source": [
    "# Misc Data"
   ]
  },
  {
   "cell_type": "code",
   "execution_count": 4,
   "metadata": {},
   "outputs": [
    {
     "name": "stdout",
     "output_type": "stream",
     "text": [
      "Loading library list...\n",
      "Done\n"
     ]
    }
   ],
   "source": [
    "## Delisting returns\n",
    "conn = wrds.Connection(**{\"wrds_username\": \"sa400\"})\n",
    "crspmsedelist_df = conn.raw_sql(\"\"\"\n",
    "                    select DLSTDT, PERMNO, dlret\n",
    "                   from crsp.msedelist\n",
    "                    \"\"\")\n",
    "crspmsedelist_df['date'] = pd.to_datetime(crspmsedelist_df['dlstdt'])"
   ]
  },
  {
   "cell_type": "markdown",
   "metadata": {},
   "source": [
    "# Functions"
   ]
  },
  {
   "cell_type": "markdown",
   "metadata": {},
   "source": [
    "## Clean"
   ]
  },
  {
   "cell_type": "code",
   "execution_count": 13,
   "metadata": {},
   "outputs": [],
   "source": [
    "all_times = ['9:30:00', '9:35:00', '9:40:00', '9:45:00', '9:50:00', '9:55:00',\n",
    "       '10:00:00', '10:05:00', '10:10:00', '10:15:00', '10:20:00',\n",
    "       '10:25:00', '10:30:00', '10:35:00', '10:40:00', '10:45:00',\n",
    "       '10:50:00', '10:55:00', '11:00:00', '11:05:00', '11:10:00',\n",
    "       '11:15:00', '11:20:00', '11:25:00', '11:30:00', '11:35:00',\n",
    "       '11:40:00', '11:45:00', '11:50:00', '11:55:00', '12:00:00',\n",
    "       '12:05:00', '12:10:00', '12:15:00', '12:20:00', '12:25:00',\n",
    "       '12:30:00', '12:35:00', '12:40:00', '12:45:00', '12:50:00',\n",
    "       '12:55:00', '13:00:00', '13:05:00', '13:10:00', '13:15:00',\n",
    "       '13:20:00', '13:25:00', '13:30:00', '13:35:00', '13:40:00',\n",
    "       '13:45:00', '13:50:00', '13:55:00', '14:00:00', '14:05:00',\n",
    "       '14:10:00', '14:15:00', '14:20:00', '14:25:00', '14:30:00',\n",
    "       '14:35:00', '14:40:00', '14:45:00', '14:50:00', '14:55:00',\n",
    "       '15:00:00', '15:05:00', '15:10:00', '15:15:00', '15:20:00',\n",
    "       '15:25:00', '15:30:00', '15:35:00', '15:40:00', '15:45:00',\n",
    "       '15:50:00', '15:55:00', '16:00:00']"
   ]
  },
  {
   "cell_type": "code",
   "execution_count": 14,
   "metadata": {},
   "outputs": [],
   "source": [
    "def clean_taq(date):\n",
    "\n",
    "    # Get TAQ files\n",
    "    taq_price_files_date = glob.glob(taq_price_folder + date + '*.parquet')\n",
    "    taq_df = pd.concat([pd.read_parquet(x) for x in taq_price_files_date])\n",
    "\n",
    "    # Clean up TAQ df columns\n",
    "    taq_df.columns = [x.lower() for x in taq_df.columns]\n",
    "\n",
    "    # Handle any missing times\n",
    "    index = pd.MultiIndex.from_product(\n",
    "        [taq_df[\"permno\"].unique(), all_times], names=[\"permno\", \"time\"]\n",
    "    )\n",
    "    index_df = pd.DataFrame(index=index).reset_index()\n",
    "    taq_df = (\n",
    "        taq_df.merge(index_df, on=[\"permno\", \"time\"], how=\"right\")\n",
    "        .sort_values(by=[\"permno\"])\n",
    "        .astype({'time': 'category'})\n",
    "    )\n",
    "    taq_df = taq_df.sort_values(by = ['permno', 'time'])\n",
    "\n",
    "    # Forward fill in entries\n",
    "    taq_df[['price', 'cusip9', 'symbol', 'ticker_identifier']] = taq_df.groupby(['permno'])[\n",
    "        ['price', 'cusip9', 'symbol', 'ticker_identifier']].ffill()\n",
    "    taq_df['date'] = int(date)\n",
    "\n",
    "    # Add date\n",
    "    taq_df['datetime'] = pd.to_datetime(taq_df['date'], format = '%Y%m%d') + pd.to_timedelta(taq_df['time'])\n",
    "    taq_df['time'] = taq_df['time'].astype(str)\n",
    "\n",
    "    # Add returns\n",
    "    taq_df = taq_df.sort_values(by = ['permno', 'datetime']).reset_index(drop = True)\n",
    "    taq_df['return'] = taq_df.groupby(['permno'])['price'].pct_change()\n",
    "\n",
    "    return taq_df"
   ]
  },
  {
   "cell_type": "code",
   "execution_count": 15,
   "metadata": {},
   "outputs": [],
   "source": [
    "def clean_crsp(date):\n",
    "\n",
    "    # Get CRSP file\n",
    "    crsp_df = pd.read_parquet(crsp_price_folder + date + \".parquet\")\n",
    "\n",
    "    # Fix columns\n",
    "    crsp_df.columns = [x.lower() for x in crsp_df]\n",
    "    crsp_df[['ret', 'retx']] = crsp_df[['ret', 'retx']].apply(pd.to_numeric, errors = 'coerce')\n",
    "    crsp_df['date'] = pd.to_datetime(crsp_df['date'], format = '%Y%m%d')\n",
    "\n",
    "    # Infer close-to-open adjusted overnight returns \n",
    "    crsp_df['prc'] = np.abs(crsp_df['prc'])\n",
    "    crsp_df['openprc'] = np.abs(crsp_df['openprc'])\n",
    "    crsp_df['ret_open_close_intraday'] = (crsp_df['prc']-crsp_df['openprc'])/crsp_df['openprc']\n",
    "    crsp_df['ret_close_open_adj'] = (1+crsp_df['ret'])/(1+crsp_df['ret_open_close_intraday']) - 1\n",
    "    crsp_df['retx_close_open_adj'] = (1+crsp_df['retx'])/(1+crsp_df['ret_open_close_intraday']) - 1\n",
    "\n",
    "    # Create dataframes for start and end of the day\n",
    "    crsp_df_start = crsp_df.copy()\n",
    "    crsp_df_end = crsp_df.copy()\n",
    "    crsp_df_start['time'] = '09:30:00'\n",
    "    crsp_df_end['time'] = '16:00:00'\n",
    "\n",
    "    # Add prices and returns\n",
    "    crsp_df_start['price'] = crsp_df_start['openprc']\n",
    "    crsp_df_start['return'] = crsp_df_start['ret_close_open_adj']\n",
    "    crsp_df_start['returnx'] = crsp_df_start['retx_close_open_adj']\n",
    "    crsp_df_end['price'] = crsp_df_end['prc']\n",
    "    crsp_df_end['return'] = crsp_df_end['ret_open_close_intraday'] \n",
    "    \n",
    "    # Delisting return to end of day CRSP\n",
    "    crsp_df_end = crsp_df_end.merge(crspmsedelist_df, on = ['date', 'permno'], how = 'left')     \n",
    "\n",
    "    # Add dates\n",
    "    crsphf_df = pd.concat([crsp_df_start, crsp_df_end], ignore_index = True)\n",
    "    crsphf_df['datetime'] = crsphf_df['date'] + pd.to_timedelta(crsphf_df['time'])\n",
    "    \n",
    "    return crsphf_df"
   ]
  },
  {
   "cell_type": "code",
   "execution_count": 16,
   "metadata": {},
   "outputs": [],
   "source": [
    "def merge_crsp_taq(taq_df, crsphf_df):\n",
    "    \n",
    "    # Combine CRSP with TAQ\n",
    "    merge_df = taq_df.astype({'permno': 'str'}).merge(\n",
    "        crsphf_df.astype({'permno': 'str'}), on=[\"permno\", \"datetime\"], how=\"outer\").sort_values(\n",
    "        by=[\"permno\", \"datetime\"]\n",
    "    )\n",
    "\n",
    "    # Combined prices and returns - prefer CRSP prices (first/last)\n",
    "    merge_df[\"price\"] = merge_df[\"price_y\"].fillna(merge_df[\"price_x\"])\n",
    "    \n",
    "    # Drop permnos where CRSP and TAQ price differ to much (mismatch)\n",
    "    mismatches = merge_df.query('abs(log(price_y/price_x)) > 0.5 & time_y == \"09:30:00\"')\n",
    "    if len(mismatches):\n",
    "        permno_drops = mismatches['permno'].values\n",
    "        merge_df = merge_df.query('permno not in @permno_drops').copy()\n",
    "        print(f'Dropping ({\", \".join(mismatches[\"symbol\"].unique())}) \\\n",
    "            due to match errors (date = {merge_df[\"datetime\"].iloc[0].date()})')\n",
    "\n",
    "    # First return should use CRSP to include dividends\n",
    "    merge_df['return'] = merge_df.groupby(['permno'])['price'].pct_change()\n",
    "    merge_df[\"return\"] = np.where(\n",
    "        merge_df[\"time_y\"] == \"09:30:00\",\n",
    "        merge_df[\"return_y\"],\n",
    "        merge_df[\"return\"]\n",
    "    )\n",
    "\n",
    "    # Last return will be CRSP if we are missing TAQ data\n",
    "    merge_df['return'] = np.where(\n",
    "        (merge_df['time_y'] == \"16:00:00\") & (merge_df['return_x'].isna()),\n",
    "        merge_df['return_y'],\n",
    "        merge_df['return']\n",
    "    )\n",
    "\n",
    "    # Adjust last return to handle delisting\n",
    "    merge_df['return'] = np.where(\n",
    "        (merge_df['time_y'] == \"16:00:00\"),\n",
    "        (1+merge_df['return'])*(1+merge_df['dlret'].fillna(0))-1,\n",
    "        merge_df['return']\n",
    "    )\n",
    "\n",
    "    # Dividend unadjusted returns - just have retx for first observation\n",
    "    merge_df['returnx'] = np.where(\n",
    "        merge_df[\"time_y\"] == \"09:30:00\",\n",
    "        merge_df[\"returnx\"],\n",
    "        merge_df[\"return\"]\n",
    "    )\n",
    "\n",
    "    # Fill in missing data\n",
    "    merge_df[[\"permco\", \"shrout\"]] = merge_df.groupby([\"permno\"])[[\"permco\", \"shrout\"]].ffill()\n",
    "    merge_df[\"date\"] = pd.to_datetime(merge_df[\"datetime\"].iloc[0].date())\n",
    "    merge_df['time'] = merge_df['datetime'].dt.time.astype(str)\n",
    "\n",
    "    # Fix dtypes\n",
    "    merge_df[\"permno\"] = pd.Categorical(merge_df[\"permno\"])\n",
    "    merge_df[\"permco\"] = pd.Categorical(merge_df[\"permco\"])\n",
    "\n",
    "    # Add market equity info\n",
    "    merge_df[\"meq\"] = (\n",
    "        merge_df[\"shrout\"] * merge_df[\"price\"]\n",
    "    )  # / merge_df['cfacpr'] * merge_df['cfacshr']\n",
    "    merge_df[\"ME\"] = merge_df.groupby([\"datetime\", \"permco\"])[\"meq\"].transform(\"sum\")\n",
    "    merge_df[\"meq_day_max_permno\"] = merge_df.groupby([\"permno\"])[\"meq\"].transform(\"max\")\n",
    "    merge_df[\"meq_day_max_permco\"] = merge_df.groupby([\"permco\"])[\"meq\"].transform(\"max\")\n",
    "    merge_df = (\n",
    "        merge_df.query(\"meq_day_max_permno == meq_day_max_permco\")\n",
    "        .drop([\"meq_day_max_permno\", \"meq_day_max_permco\"], axis=1)\n",
    "        .copy()\n",
    "    )\n",
    "    \n",
    "    # Subset\n",
    "    merge_df = merge_df[['datetime', 'date', 'time', 'permco', 'permno', 'symbol', 'price', 'shrout', \n",
    "                         'return', 'returnx', 'ME']].reset_index(drop = True)\n",
    "    \n",
    "    return merge_df"
   ]
  },
  {
   "cell_type": "code",
   "execution_count": 17,
   "metadata": {},
   "outputs": [],
   "source": [
    "def resample_merged(merge_df):\n",
    "    ## Resample so every permno has 79 observations\n",
    "\n",
    "    # Ensure there are 79 unique times in the data\n",
    "    if merge_df[\"datetime\"].nunique() < 79:\n",
    "        raise Exception(\"Missing datetimes\")\n",
    "\n",
    "    # Construct multiindex and merge to get dataframe with all permnos * 79 times\n",
    "    index = pd.MultiIndex.from_product(\n",
    "        [merge_df[\"permno\"].unique(), merge_df[\"datetime\"].unique()], names=[\"permno\", \"datetime\"]\n",
    "    )\n",
    "    index_df = pd.DataFrame(index=index).reset_index()\n",
    "    resample_df = (\n",
    "        merge_df.merge(index_df, on=[\"permno\", \"datetime\"], how=\"right\")\n",
    "        .sort_values(by=[\"permno\", \"datetime\"])\n",
    "        .drop([\"time\"], axis=1)\n",
    "    )\n",
    "\n",
    "    # Fix missing data\n",
    "    resample_df[\"date\"] = merge_df[\"date\"].iloc[0]\n",
    "    ffill_cols = [\"permco\", \"symbol\", \"shrout\", 'ME']\n",
    "    resample_df[ffill_cols] = resample_df.groupby(['permno'])[ffill_cols].ffill()\n",
    "\n",
    "    # Interpolate log prices and fill in missing prices/returns\n",
    "    resample_df['log_price'] = np.log(resample_df['price'])\n",
    "    resample_df['log_price_last'] = resample_df.groupby(['permno'])['log_price'].transform('last')\n",
    "    resample_df['log_price_first'] = resample_df.groupby(['permno'])['log_price'].transform('first')\n",
    "    resample_df['interp_beta'] = (resample_df['log_price_last'] - resample_df['log_price_first'])/78\n",
    "    resample_df['count'] = resample_df.groupby(['permno'])['datetime'].cumcount()\n",
    "    resample_df['log_price_interp'] = resample_df['log_price_first'] + resample_df['count']*resample_df['interp_beta']\n",
    "    resample_df['price'] = resample_df['price'].fillna(np.exp(resample_df['log_price_interp']))\n",
    "    resample_df['return'] = np.where(resample_df['datetime'].dt.time.astype(str) == '09:30:00', \n",
    "                                     resample_df['return'], resample_df.groupby(['permno'])['price'].pct_change())\n",
    "    resample_df['returnx'] = np.where(resample_df['datetime'].dt.time.astype(str) == '09:30:00', \n",
    "                                     resample_df['returnx'], resample_df.groupby(['permno'])['price'].pct_change())\n",
    "    \n",
    "    resample_df = resample_df.drop(['log_price', 'log_price_last', 'log_price_first', \n",
    "                                    'interp_beta', 'count', 'log_price_interp'], axis = 1)\n",
    "\n",
    "    return resample_df"
   ]
  },
  {
   "cell_type": "markdown",
   "metadata": {},
   "source": [
    "# Main"
   ]
  },
  {
   "cell_type": "code",
   "execution_count": 18,
   "metadata": {},
   "outputs": [],
   "source": [
    "output_folder = '../../data/proc/clean_prices/'"
   ]
  },
  {
   "cell_type": "code",
   "execution_count": 19,
   "metadata": {},
   "outputs": [
    {
     "name": "stderr",
     "output_type": "stream",
     "text": [
      "100%|██████████| 5285/5285 [00:02<00:00, 1843.17it/s]\n"
     ]
    }
   ],
   "source": [
    "for x in tqdm(glob.glob(output_folder + '*')):\n",
    "    os.remove(x)"
   ]
  },
  {
   "cell_type": "code",
   "execution_count": 22,
   "metadata": {},
   "outputs": [
    {
     "name": "stderr",
     "output_type": "stream",
     "text": [
      " 25%|██▌       | 1347/5284 [02:31<07:59,  8.21it/s]"
     ]
    },
    {
     "name": "stdout",
     "output_type": "stream",
     "text": [
      "Dropping (UTXWI)             due to match errors (date = 2005-06-01)Dropping (UTXWI)             due to match errors (date = 2005-06-06)\n",
      "\n",
      "Dropping (UTXWI)             due to match errors (date = 2005-06-02)"
     ]
    },
    {
     "name": "stderr",
     "output_type": "stream",
     "text": [
      " 26%|██▌       | 1351/5284 [02:31<07:26,  8.81it/s]"
     ]
    },
    {
     "name": "stdout",
     "output_type": "stream",
     "text": [
      "\n",
      "Dropping (UTXWI)             due to match errors (date = 2005-06-07)\n",
      "Dropping (UTXWI)             due to match errors (date = 2005-06-03)"
     ]
    },
    {
     "name": "stderr",
     "output_type": "stream",
     "text": [
      " 26%|██▌       | 1353/5284 [02:31<07:22,  8.89it/s]"
     ]
    },
    {
     "name": "stdout",
     "output_type": "stream",
     "text": [
      "Dropping (UTXWI)             due to match errors (date = 2005-06-08)\n",
      "\n",
      "Dropping (UTXWI)             due to match errors (date = 2005-06-09)\n"
     ]
    },
    {
     "name": "stderr",
     "output_type": "stream",
     "text": [
      "100%|██████████| 5284/5284 [09:27<00:00,  9.30it/s]\n"
     ]
    },
    {
     "name": "stdout",
     "output_type": "stream",
     "text": [
      "CPU times: user 19.1 s, sys: 4.18 s, total: 23.3 s\n",
      "Wall time: 9min 28s\n"
     ]
    }
   ],
   "source": [
    "%%time\n",
    "def clean_data(date):\n",
    "    \n",
    "    # Clean data\n",
    "    try:\n",
    "        \n",
    "        taq_df = clean_taq(date)\n",
    "        crsphf_df = clean_crsp(date)\n",
    "        merge_df = merge_crsp_taq(taq_df, crsphf_df)\n",
    "        \n",
    "        # Filter to just taq permnos\n",
    "        taq_permnos = taq_df['permno'].astype(str).unique()\n",
    "        merge_df = merge_df.query('permno in @taq_permnos')\n",
    "        \n",
    "        final_df = resample_merged(merge_df)\n",
    "        \n",
    "    except:\n",
    "        \n",
    "        print(date)\n",
    "        raise Exception()\n",
    "    \n",
    "    return final_df\n",
    "\n",
    "def process_date(date):\n",
    "    \n",
    "    # Get clean data\n",
    "    final_df = clean_data(date)\n",
    "    \n",
    "    # Save\n",
    "    mc = []\n",
    "    table = pa.Table.from_pandas(final_df)\n",
    "    filename = date + '.parquet'\n",
    "    pq.write_table(table, output_folder + filename, metadata_collector=mc)\n",
    "    mc[-1].set_file_path(filename)\n",
    "    \n",
    "    return mc\n",
    "\n",
    "# Pyarrow \n",
    "metadata_collector = []\n",
    "def cb(value):\n",
    "    filename_str = value[0].strftime('%Y%m%d')\n",
    "    return filename_str\n",
    "\n",
    "with Pool(24) as p:\n",
    "    for mc in tqdm(p.imap_unordered(process_date, np.sort(taq_price_files_dates)), \n",
    "                      total = len(taq_price_files_dates),\n",
    "                      smoothing = 0.1):\n",
    "        \n",
    "        # Add to metadata\n",
    "        metadata_collector.append(mc[0])\n",
    "        \n",
    "        continue\n",
    "\n",
    "# Write the ``_metadata`` parquet file with row groups statistics of all files\n",
    "table_schema = pa.Table.from_pandas(clean_data(taq_price_files_dates[0])).schema\n",
    "pq.write_metadata(\n",
    "    table_schema, output_folder + '_metadata',\n",
    "    metadata_collector=metadata_collector\n",
    ")"
   ]
  },
  {
   "cell_type": "markdown",
   "metadata": {},
   "source": [
    "# Check Results"
   ]
  },
  {
   "cell_type": "code",
   "execution_count": 276,
   "metadata": {},
   "outputs": [
    {
     "name": "stdout",
     "output_type": "stream",
     "text": [
      "CPU times: user 18.7 s, sys: 4.48 s, total: 23.2 s\n",
      "Wall time: 22.5 s\n"
     ]
    }
   ],
   "source": [
    "%%time\n",
    "\n",
    "# Folder with clean prices for all stocks\n",
    "data_folder = '../../data/proc/clean_prices/'\n",
    "\n",
    "# Read all files in data folder\n",
    "filter_ds = pq.ParquetDataset(\n",
    "    glob.glob(data_folder + '*.parquet'),\n",
    "    metadata = pq.read_metadata(data_folder + '_metadata')\n",
    ")\n",
    "rawdata_df = filter_ds.read_pandas().to_pandas()"
   ]
  },
  {
   "cell_type": "code",
   "execution_count": 316,
   "metadata": {},
   "outputs": [],
   "source": [
    "date = '20000929'\n",
    "taq_df = clean_taq(date)\n",
    "crsphf_df = clean_crsp(date)\n",
    "temp_df = merge_crsp_taq(taq_df, crsphf_df)"
   ]
  },
  {
   "cell_type": "code",
   "execution_count": 320,
   "metadata": {},
   "outputs": [
    {
     "data": {
      "text/html": [
       "<div>\n",
       "<style scoped>\n",
       "    .dataframe tbody tr th:only-of-type {\n",
       "        vertical-align: middle;\n",
       "    }\n",
       "\n",
       "    .dataframe tbody tr th {\n",
       "        vertical-align: top;\n",
       "    }\n",
       "\n",
       "    .dataframe thead th {\n",
       "        text-align: right;\n",
       "    }\n",
       "</style>\n",
       "<table border=\"1\" class=\"dataframe\">\n",
       "  <thead>\n",
       "    <tr style=\"text-align: right;\">\n",
       "      <th></th>\n",
       "      <th>datetime</th>\n",
       "      <th>date</th>\n",
       "      <th>permco</th>\n",
       "      <th>permno</th>\n",
       "      <th>symbol</th>\n",
       "      <th>price</th>\n",
       "      <th>shrout</th>\n",
       "      <th>return</th>\n",
       "      <th>returnx</th>\n",
       "      <th>ME</th>\n",
       "      <th>abslret</th>\n",
       "    </tr>\n",
       "  </thead>\n",
       "  <tbody>\n",
       "    <tr>\n",
       "      <th>631</th>\n",
       "      <td>2010-10-07 16:00:00</td>\n",
       "      <td>2010-10-07</td>\n",
       "      <td>20431.0</td>\n",
       "      <td>71685</td>\n",
       "      <td>CHP</td>\n",
       "      <td>0.2510</td>\n",
       "      <td>26478.0</td>\n",
       "      <td>-0.474401</td>\n",
       "      <td>-0.474401</td>\n",
       "      <td>6.645978e+03</td>\n",
       "      <td>0.643217</td>\n",
       "    </tr>\n",
       "    <tr>\n",
       "      <th>158</th>\n",
       "      <td>2000-09-29 09:30:00</td>\n",
       "      <td>2000-09-29</td>\n",
       "      <td>7.0</td>\n",
       "      <td>14593</td>\n",
       "      <td>AAPL</td>\n",
       "      <td>28.1875</td>\n",
       "      <td>335677.0</td>\n",
       "      <td>-0.473131</td>\n",
       "      <td>-0.473131</td>\n",
       "      <td>9.461895e+06</td>\n",
       "      <td>0.640804</td>\n",
       "    </tr>\n",
       "    <tr>\n",
       "      <th>632</th>\n",
       "      <td>2005-02-28 09:30:00</td>\n",
       "      <td>2005-02-28</td>\n",
       "      <td>11112.0</td>\n",
       "      <td>76841</td>\n",
       "      <td>BIIB</td>\n",
       "      <td>37.7900</td>\n",
       "      <td>336700.0</td>\n",
       "      <td>-0.438317</td>\n",
       "      <td>-0.438317</td>\n",
       "      <td>1.272389e+07</td>\n",
       "      <td>0.576818</td>\n",
       "    </tr>\n",
       "    <tr>\n",
       "      <th>1264</th>\n",
       "      <td>2004-10-15 09:30:00</td>\n",
       "      <td>2004-10-15</td>\n",
       "      <td>43145.0</td>\n",
       "      <td>89393</td>\n",
       "      <td>NFLX</td>\n",
       "      <td>10.0200</td>\n",
       "      <td>52303.0</td>\n",
       "      <td>-0.425129</td>\n",
       "      <td>-0.425129</td>\n",
       "      <td>5.240761e+05</td>\n",
       "      <td>0.553610</td>\n",
       "    </tr>\n",
       "    <tr>\n",
       "      <th>1264</th>\n",
       "      <td>2002-11-21 09:30:00</td>\n",
       "      <td>2002-11-21</td>\n",
       "      <td>37905.0</td>\n",
       "      <td>88409</td>\n",
       "      <td>RTX</td>\n",
       "      <td>0.1000</td>\n",
       "      <td>21076.0</td>\n",
       "      <td>-0.411765</td>\n",
       "      <td>-0.411765</td>\n",
       "      <td>2.107600e+03</td>\n",
       "      <td>0.530628</td>\n",
       "    </tr>\n",
       "    <tr>\n",
       "      <th>1286</th>\n",
       "      <td>2001-09-26 11:20:00</td>\n",
       "      <td>2001-09-26</td>\n",
       "      <td>37905.0</td>\n",
       "      <td>88409</td>\n",
       "      <td>RTX</td>\n",
       "      <td>0.2000</td>\n",
       "      <td>17783.0</td>\n",
       "      <td>-0.411765</td>\n",
       "      <td>-0.411765</td>\n",
       "      <td>3.556600e+03</td>\n",
       "      <td>0.530628</td>\n",
       "    </tr>\n",
       "    <tr>\n",
       "      <th>1153</th>\n",
       "      <td>2008-11-25 13:25:00</td>\n",
       "      <td>2008-11-25</td>\n",
       "      <td>37905.0</td>\n",
       "      <td>88409</td>\n",
       "      <td>MERR</td>\n",
       "      <td>0.3400</td>\n",
       "      <td>12892.0</td>\n",
       "      <td>-0.403509</td>\n",
       "      <td>-0.403509</td>\n",
       "      <td>4.383280e+03</td>\n",
       "      <td>0.516691</td>\n",
       "    </tr>\n",
       "    <tr>\n",
       "      <th>1027</th>\n",
       "      <td>2001-09-17 09:30:00</td>\n",
       "      <td>2001-09-17</td>\n",
       "      <td>16454.0</td>\n",
       "      <td>86783</td>\n",
       "      <td>PCLN</td>\n",
       "      <td>3.0200</td>\n",
       "      <td>220313.0</td>\n",
       "      <td>-0.396000</td>\n",
       "      <td>-0.396000</td>\n",
       "      <td>6.653453e+05</td>\n",
       "      <td>0.504181</td>\n",
       "    </tr>\n",
       "    <tr>\n",
       "      <th>1027</th>\n",
       "      <td>2000-09-27 09:30:00</td>\n",
       "      <td>2000-09-27</td>\n",
       "      <td>16454.0</td>\n",
       "      <td>86783</td>\n",
       "      <td>PCLN</td>\n",
       "      <td>11.3125</td>\n",
       "      <td>166633.0</td>\n",
       "      <td>-0.393127</td>\n",
       "      <td>-0.393127</td>\n",
       "      <td>1.885036e+06</td>\n",
       "      <td>0.499436</td>\n",
       "    </tr>\n",
       "    <tr>\n",
       "      <th>553</th>\n",
       "      <td>2020-03-09 09:30:00</td>\n",
       "      <td>2020-03-09</td>\n",
       "      <td>21322.0</td>\n",
       "      <td>34833</td>\n",
       "      <td>OXY.</td>\n",
       "      <td>15.5800</td>\n",
       "      <td>895225.0</td>\n",
       "      <td>-0.383326</td>\n",
       "      <td>-0.419956</td>\n",
       "      <td>1.394761e+07</td>\n",
       "      <td>0.483415</td>\n",
       "    </tr>\n",
       "    <tr>\n",
       "      <th>1172</th>\n",
       "      <td>2009-03-18 15:00:00</td>\n",
       "      <td>2009-03-18</td>\n",
       "      <td>37905.0</td>\n",
       "      <td>88409</td>\n",
       "      <td>MERR</td>\n",
       "      <td>0.4000</td>\n",
       "      <td>12730.0</td>\n",
       "      <td>0.600000</td>\n",
       "      <td>0.600000</td>\n",
       "      <td>5.092000e+03</td>\n",
       "      <td>0.470004</td>\n",
       "    </tr>\n",
       "    <tr>\n",
       "      <th>1106</th>\n",
       "      <td>2008-11-11 09:30:00</td>\n",
       "      <td>2008-11-11</td>\n",
       "      <td>37905.0</td>\n",
       "      <td>88409</td>\n",
       "      <td>MERR</td>\n",
       "      <td>0.2500</td>\n",
       "      <td>12892.0</td>\n",
       "      <td>-0.375000</td>\n",
       "      <td>-0.375000</td>\n",
       "      <td>3.223000e+03</td>\n",
       "      <td>0.470004</td>\n",
       "    </tr>\n",
       "    <tr>\n",
       "      <th>1179</th>\n",
       "      <td>2008-10-09 15:35:00</td>\n",
       "      <td>2008-10-09</td>\n",
       "      <td>37905.0</td>\n",
       "      <td>88409</td>\n",
       "      <td>MERR</td>\n",
       "      <td>0.5200</td>\n",
       "      <td>12768.0</td>\n",
       "      <td>-0.373494</td>\n",
       "      <td>-0.373494</td>\n",
       "      <td>6.639360e+03</td>\n",
       "      <td>0.467597</td>\n",
       "    </tr>\n",
       "    <tr>\n",
       "      <th>1027</th>\n",
       "      <td>2011-10-25 09:30:00</td>\n",
       "      <td>2011-10-25</td>\n",
       "      <td>43145.0</td>\n",
       "      <td>89393</td>\n",
       "      <td>NFLX</td>\n",
       "      <td>74.9000</td>\n",
       "      <td>52504.0</td>\n",
       "      <td>-0.369741</td>\n",
       "      <td>-0.369741</td>\n",
       "      <td>3.932550e+06</td>\n",
       "      <td>0.461625</td>\n",
       "    </tr>\n",
       "    <tr>\n",
       "      <th>1287</th>\n",
       "      <td>2003-01-24 11:25:00</td>\n",
       "      <td>2003-01-24</td>\n",
       "      <td>37905.0</td>\n",
       "      <td>88409</td>\n",
       "      <td>RTX</td>\n",
       "      <td>0.1400</td>\n",
       "      <td>21076.0</td>\n",
       "      <td>-0.363636</td>\n",
       "      <td>-0.363636</td>\n",
       "      <td>2.950640e+03</td>\n",
       "      <td>0.451985</td>\n",
       "    </tr>\n",
       "    <tr>\n",
       "      <th>1159</th>\n",
       "      <td>2009-03-18 13:55:00</td>\n",
       "      <td>2009-03-18</td>\n",
       "      <td>37905.0</td>\n",
       "      <td>88409</td>\n",
       "      <td>MERR</td>\n",
       "      <td>0.2500</td>\n",
       "      <td>12730.0</td>\n",
       "      <td>-0.342105</td>\n",
       "      <td>-0.342105</td>\n",
       "      <td>3.182500e+03</td>\n",
       "      <td>0.418710</td>\n",
       "    </tr>\n",
       "    <tr>\n",
       "      <th>1184</th>\n",
       "      <td>2009-02-24 16:00:00</td>\n",
       "      <td>2009-02-24</td>\n",
       "      <td>37905.0</td>\n",
       "      <td>88409</td>\n",
       "      <td>MERR</td>\n",
       "      <td>0.4400</td>\n",
       "      <td>12730.0</td>\n",
       "      <td>0.517241</td>\n",
       "      <td>0.517241</td>\n",
       "      <td>5.601200e+03</td>\n",
       "      <td>0.416894</td>\n",
       "    </tr>\n",
       "    <tr>\n",
       "      <th>1099</th>\n",
       "      <td>2009-04-23 15:30:00</td>\n",
       "      <td>2009-04-23</td>\n",
       "      <td>37905.0</td>\n",
       "      <td>88409</td>\n",
       "      <td>MERR</td>\n",
       "      <td>0.3300</td>\n",
       "      <td>12733.0</td>\n",
       "      <td>-0.340000</td>\n",
       "      <td>-0.340000</td>\n",
       "      <td>4.201890e+03</td>\n",
       "      <td>0.415515</td>\n",
       "    </tr>\n",
       "    <tr>\n",
       "      <th>1070</th>\n",
       "      <td>2009-02-12 13:05:00</td>\n",
       "      <td>2009-02-12</td>\n",
       "      <td>17322.0</td>\n",
       "      <td>87378</td>\n",
       "      <td>CHTR</td>\n",
       "      <td>0.0399</td>\n",
       "      <td>411738.0</td>\n",
       "      <td>-0.335000</td>\n",
       "      <td>-0.335000</td>\n",
       "      <td>1.642835e+04</td>\n",
       "      <td>0.407968</td>\n",
       "    </tr>\n",
       "    <tr>\n",
       "      <th>1162</th>\n",
       "      <td>2008-11-25 14:10:00</td>\n",
       "      <td>2008-11-25</td>\n",
       "      <td>37905.0</td>\n",
       "      <td>88409</td>\n",
       "      <td>MERR</td>\n",
       "      <td>0.5100</td>\n",
       "      <td>12892.0</td>\n",
       "      <td>0.500000</td>\n",
       "      <td>0.500000</td>\n",
       "      <td>6.574920e+03</td>\n",
       "      <td>0.405465</td>\n",
       "    </tr>\n",
       "  </tbody>\n",
       "</table>\n",
       "</div>"
      ],
      "text/plain": [
       "                datetime       date   permco permno symbol    price    shrout  \\\n",
       "631  2010-10-07 16:00:00 2010-10-07  20431.0  71685    CHP   0.2510   26478.0   \n",
       "158  2000-09-29 09:30:00 2000-09-29      7.0  14593   AAPL  28.1875  335677.0   \n",
       "632  2005-02-28 09:30:00 2005-02-28  11112.0  76841   BIIB  37.7900  336700.0   \n",
       "1264 2004-10-15 09:30:00 2004-10-15  43145.0  89393   NFLX  10.0200   52303.0   \n",
       "1264 2002-11-21 09:30:00 2002-11-21  37905.0  88409    RTX   0.1000   21076.0   \n",
       "1286 2001-09-26 11:20:00 2001-09-26  37905.0  88409    RTX   0.2000   17783.0   \n",
       "1153 2008-11-25 13:25:00 2008-11-25  37905.0  88409   MERR   0.3400   12892.0   \n",
       "1027 2001-09-17 09:30:00 2001-09-17  16454.0  86783   PCLN   3.0200  220313.0   \n",
       "1027 2000-09-27 09:30:00 2000-09-27  16454.0  86783   PCLN  11.3125  166633.0   \n",
       "553  2020-03-09 09:30:00 2020-03-09  21322.0  34833   OXY.  15.5800  895225.0   \n",
       "1172 2009-03-18 15:00:00 2009-03-18  37905.0  88409   MERR   0.4000   12730.0   \n",
       "1106 2008-11-11 09:30:00 2008-11-11  37905.0  88409   MERR   0.2500   12892.0   \n",
       "1179 2008-10-09 15:35:00 2008-10-09  37905.0  88409   MERR   0.5200   12768.0   \n",
       "1027 2011-10-25 09:30:00 2011-10-25  43145.0  89393   NFLX  74.9000   52504.0   \n",
       "1287 2003-01-24 11:25:00 2003-01-24  37905.0  88409    RTX   0.1400   21076.0   \n",
       "1159 2009-03-18 13:55:00 2009-03-18  37905.0  88409   MERR   0.2500   12730.0   \n",
       "1184 2009-02-24 16:00:00 2009-02-24  37905.0  88409   MERR   0.4400   12730.0   \n",
       "1099 2009-04-23 15:30:00 2009-04-23  37905.0  88409   MERR   0.3300   12733.0   \n",
       "1070 2009-02-12 13:05:00 2009-02-12  17322.0  87378   CHTR   0.0399  411738.0   \n",
       "1162 2008-11-25 14:10:00 2008-11-25  37905.0  88409   MERR   0.5100   12892.0   \n",
       "\n",
       "        return   returnx            ME   abslret  \n",
       "631  -0.474401 -0.474401  6.645978e+03  0.643217  \n",
       "158  -0.473131 -0.473131  9.461895e+06  0.640804  \n",
       "632  -0.438317 -0.438317  1.272389e+07  0.576818  \n",
       "1264 -0.425129 -0.425129  5.240761e+05  0.553610  \n",
       "1264 -0.411765 -0.411765  2.107600e+03  0.530628  \n",
       "1286 -0.411765 -0.411765  3.556600e+03  0.530628  \n",
       "1153 -0.403509 -0.403509  4.383280e+03  0.516691  \n",
       "1027 -0.396000 -0.396000  6.653453e+05  0.504181  \n",
       "1027 -0.393127 -0.393127  1.885036e+06  0.499436  \n",
       "553  -0.383326 -0.419956  1.394761e+07  0.483415  \n",
       "1172  0.600000  0.600000  5.092000e+03  0.470004  \n",
       "1106 -0.375000 -0.375000  3.223000e+03  0.470004  \n",
       "1179 -0.373494 -0.373494  6.639360e+03  0.467597  \n",
       "1027 -0.369741 -0.369741  3.932550e+06  0.461625  \n",
       "1287 -0.363636 -0.363636  2.950640e+03  0.451985  \n",
       "1159 -0.342105 -0.342105  3.182500e+03  0.418710  \n",
       "1184  0.517241  0.517241  5.601200e+03  0.416894  \n",
       "1099 -0.340000 -0.340000  4.201890e+03  0.415515  \n",
       "1070 -0.335000 -0.335000  1.642835e+04  0.407968  \n",
       "1162  0.500000  0.500000  6.574920e+03  0.405465  "
      ]
     },
     "execution_count": 320,
     "metadata": {},
     "output_type": "execute_result"
    }
   ],
   "source": [
    "# Check for giant returns\n",
    "rawdata_df['abslret'] = abs(np.log(1+rawdata_df['return']))\n",
    "rawdata_df.sort_values(by = 'abslret', ascending = False).head(20)"
   ]
  },
  {
   "cell_type": "code",
   "execution_count": 241,
   "metadata": {},
   "outputs": [
    {
     "data": {
      "text/plain": [
       "<AxesSubplot:xlabel='datetime'>"
      ]
     },
     "execution_count": 241,
     "metadata": {},
     "output_type": "execute_result"
    },
    {
     "data": {
      "image/png": "[encoded data removed]",
      "text/plain": [
       "<Figure size 432x288 with 1 Axes>"
      ]
     },
     "metadata": {
      "needs_background": "light"
     },
     "output_type": "display_data"
    }
   ],
   "source": [
    "rawdata_df.query('permno == \"84398\"').plot('datetime', 'price')"
   ]
  },
  {
   "cell_type": "code",
   "execution_count": 80,
   "metadata": {},
   "outputs": [
    {
     "data": {
      "text/plain": [
       "<AxesSubplot:xlabel='datetime'>"
      ]
     },
     "execution_count": 80,
     "metadata": {},
     "output_type": "execute_result"
    },
    {
     "data": {
      "image/png": "[encoded data removed]",
      "text/plain": [
       "<Figure size 432x288 with 1 Axes>"
      ]
     },
     "metadata": {
      "needs_background": "light"
     },
     "output_type": "display_data"
    }
   ],
   "source": [
    "rawdata_df.query('permno == \"14593\"').plot('datetime', 'log_price')"
   ]
  },
  {
   "cell_type": "code",
   "execution_count": 44,
   "metadata": {},
   "outputs": [
    {
     "data": {
      "text/plain": [
       "permno\n",
       "12308           [CHTR.]\n",
       "13407             [FB.]\n",
       "14277            [SLB.]\n",
       "14542           [GOOG.]\n",
       "14593           [AAPL.]\n",
       "17830      [UTX., RTX.]\n",
       "19561             [BA.]\n",
       "24942            [RTN.]\n",
       "34833            [OXY.]\n",
       "76841           [BIIB.]\n",
       "77274           [GILD.]\n",
       "80100            [SPG.]\n",
       "84398            [SPY.]\n",
       "84788           [AMZN.]\n",
       "86783    [BKNG., PCLN.]\n",
       "89393           [NFLX.]\n",
       "90319          [GOOG.L]\n",
       "14849            [BNK.]\n",
       "                 [UTX.]\n",
       "Name: symbol, dtype: object"
      ]
     },
     "execution_count": 44,
     "metadata": {},
     "output_type": "execute_result"
    }
   ],
   "source": [
    "rawdata_df.groupby(['permno'])['symbol'].apply(lambda x: x.astype(str).unique())"
   ]
  },
  {
   "cell_type": "code",
   "execution_count": null,
   "metadata": {},
   "outputs": [],
   "source": []
  },
  {
   "cell_type": "raw",
   "metadata": {},
   "source": []
  }
 ],
 "metadata": {
  "kernelspec": {
   "display_name": "Python 3",
   "language": "python",
   "name": "python3"
  },
  "language_info": {
   "codemirror_mode": {
    "name": "ipython",
    "version": 3
   },
   "file_extension": ".py",
   "mimetype": "text/x-python",
   "name": "python",
   "nbconvert_exporter": "python",
   "pygments_lexer": "ipython3",
   "version": "3.9.1"
  }
 },
 "nbformat": 4,
 "nbformat_minor": 4
}
